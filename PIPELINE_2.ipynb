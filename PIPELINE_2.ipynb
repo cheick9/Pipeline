{
 "cells": [
  {
   "cell_type": "markdown",
   "metadata": {},
   "source": [
    "1. Installation des bibliothèques"
   ]
  },
  {
   "cell_type": "code",
   "execution_count": null,
   "metadata": {},
   "outputs": [],
   "source": [
    "import os\n",
    "import json\n",
    "from datetime import datetime\n",
    "import shutil"
   ]
  },
  {
   "cell_type": "markdown",
   "metadata": {},
   "source": [
    "2. Pipeline normal (sans générateur)"
   ]
  },
  {
   "cell_type": "code",
   "execution_count": null,
   "metadata": {},
   "outputs": [],
   "source": [
    "# Chargement des données\n",
    "def load_sample(path) -> list:\n",
    "    \"\"\"Charge le contenu d'un fichier de transactions en liste de chaînes de caractères\"\"\"\n",
    "    with open(path, 'r') as file:\n",
    "        return file.readlines()\n",
    "\n",
    "# Transformation des données vers JSON\n",
    "def generate_json(transactions: list) -> dict:\n",
    "    \"\"\"Transforme les données en un dictionnaire avec nom_emetteur et total_sent\"\"\"\n",
    "    total = 0\n",
    "    name = \"\"\n",
    "    for transaction in transactions:\n",
    "        data = transaction.split()  # Découpe la ligne \"nom_emetteur date montant\"\n",
    "        name = data[0]  # Prend le nom de l'émetteur\n",
    "        montant = int(data[2].replace(\"€\", \"\"))  # Transforme le montant en entier\n",
    "        total += montant  # Somme les montants\n",
    "\n",
    "    return {\"name\": name, \"total_sent\": total}\n",
    "\n",
    "# Sauvegarde du résultat sous forme de fichier JSON\n",
    "def save_result(path: str, result: dict):\n",
    "    \"\"\"Sauvegarde le résultat sous forme de fichier JSON\"\"\"\n",
    "    timestamp = datetime.now().strftime(\"%Y%m%d_%H%M%S\")\n",
    "    filename = f\"result_sample_{timestamp}.json\"\n",
    "    filepath = os.path.join(path, filename)\n",
    "\n",
    "    with open(filepath, 'w') as json_file:\n",
    "        json.dump(result, json_file, indent=4)\n",
    "\n",
    "# Pipeline pour process tous les fichiers\n",
    "def process_all_files(source_dir: str, result_dir: str, archive_dir: str):\n",
    "    \"\"\"Process tous les fichiers dans le dossier source, génère les résultats et archive les fichiers\"\"\"\n",
    "    files = os.listdir(source_dir)\n",
    "\n",
    "    for file in files:\n",
    "        file_path = os.path.join(source_dir, file)\n",
    "        # Charger les données\n",
    "        transactions = load_sample(file_path)\n",
    "        # Générer le JSON\n",
    "        result = generate_json(transactions)\n",
    "        # Sauvegarder le résultat\n",
    "        save_result(result_dir, result)\n",
    "        # Archiver le fichier\n",
    "        archive_file(file_path, archive_dir)\n",
    "\n",
    "# Fonction pour déplacer les fichiers vers le dossier d'archive\n",
    "def archive_file(file_path: str, archive_dir: str):\n",
    "    \"\"\"Déplace un fichier vers le dossier d'archive\"\"\"\n",
    "    if not os.path.exists(archive_dir):\n",
    "        os.makedirs(archive_dir)\n",
    "    shutil.move(file_path, archive_dir)\n"
   ]
  },
  {
   "cell_type": "markdown",
   "metadata": {},
   "source": [
    "3. Pipeline avec générateur"
   ]
  },
  {
   "cell_type": "code",
   "execution_count": null,
   "metadata": {},
   "outputs": [],
   "source": [
    "# Connexion à la base de données\n",
    "conn = mysql.connector.connect(\n",
    "    host=\"localhost\",  # ou l'adresse IP de ton serveur MySQL\n",
    "    user=\"root\",       # Nom d'utilisateur MySQL\n",
    "    password=\"root\",  # Mot de passe MySQL\n",
    "    database=\"Ecole\"   # Nom de la base de données\n",
    ")\n",
    "\n",
    "# Création d'un curseur pour exécuter les requêtes\n",
    "cursor = conn.cursor()\n",
    "\n",
    "# 1. Récupérer les données des élèves\n",
    "cursor.execute(\"SELECT prenom, nom, numero_classe FROM eleves\")\n",
    "eleves = cursor.fetchall()\n",
    "\n",
    "# 2. Récupérer les données des enseignants\n",
    "cursor.execute(\"SELECT prenom, nom, numero_classe FROM enseignants\")\n",
    "enseignants = cursor.fetchall()\n",
    "\n",
    "# Fermeture du curseur et de la connexion\n",
    "cursor.close()\n",
    "conn.close()\n",
    "\n",
    "# 3. Associer chaque élève à un enseignant par numéro de classe\n",
    "for eleve in eleves:\n",
    "    prenom_eleve, nom_eleve, classe_eleve = eleve\n",
    "    enseignant_trouve = None\n",
    "\n",
    "    for enseignant in enseignants:\n",
    "        prenom_enseignant, nom_enseignant, classe_enseignant = enseignant\n",
    "        if classe_eleve == classe_enseignant:\n",
    "            enseignant_trouve = f\"{prenom_enseignant} {nom_enseignant}\"\n",
    "            break\n",
    "\n",
    "    # Afficher l'association élève-enseignant\n",
    "    if enseignant_trouve:\n",
    "        print(f\"Élève: {prenom_eleve} {nom_eleve}, Classe: {classe_eleve} -> Enseignant responsable: {enseignant_trouve}\")\n",
    "    else:\n",
    "        print(f\"Élève: {prenom_eleve} {nom_eleve}, Classe: {classe_eleve} -> Enseignant responsable: Non trouvé\")"
   ]
  },
  {
   "cell_type": "markdown",
   "metadata": {},
   "source": [
    "4. Exécution du pipeline"
   ]
  },
  {
   "cell_type": "code",
   "execution_count": null,
   "metadata": {},
   "outputs": [],
   "source": [
    "# Directoires pour les fichiers source, résultats et archivage\n",
    "source_dir = 'source'\n",
    "result_dir = 'result'\n",
    "archive_dir = 'archived'\n",
    "\n",
    "# Création des dossiers si ils n'existent pas\n",
    "if not os.path.exists(result_dir):\n",
    "    os.makedirs(result_dir)\n",
    "\n",
    "# Exécution du pipeline normal (sans générateur)\n",
    "print(\"Exécution du pipeline sans générateur\")\n",
    "process_all_files(source_dir, result_dir, archive_dir)\n",
    "\n",
    "# Exécution du pipeline avec générateur\n",
    "print(\"Exécution du pipeline avec générateur\")\n",
    "process_all_files_with_generator(source_dir, result_dir, archive_dir)"
   ]
  },
  {
   "cell_type": "markdown",
   "metadata": {},
   "source": [
    "5. Bonus : Mesurer la consommation mémoire avec memory_profiler"
   ]
  },
  {
   "cell_type": "code",
   "execution_count": 16,
   "metadata": {},
   "outputs": [
    {
     "name": "stdout",
     "output_type": "stream",
     "text": [
      "\n",
      "Associations élèves-enseignants :\n",
      "Mark Watney -> Enseignant responsable: Jonas Salk\n",
      "\n",
      "Nombre d'élèves par enseignant :\n",
      "Jonas Salk a 1 élève(s).\n"
     ]
    }
   ],
   "source": [
    "!pip install memory-profiler\n",
    "\n",
    "from memory_profiler import profile\n",
    "\n",
    "@profile\n",
    "def process_all_files_with_generator(source_dir: str, result_dir: str, archive_dir: str):\n",
    "    files = os.listdir(source_dir)\n",
    "    for file in files:\n",
    "        file_path = os.path.join(source_dir, file)\n",
    "        transactions = load_sample_with_generator(file_path)\n",
    "        result = generate_json_with_generator(transactions)\n",
    "        save_result(result_dir, result)\n",
    "        archive_file(file_path, archive_dir)\n"
   ]
  }
 ],
 "metadata": {
  "kernelspec": {
   "display_name": "Python 3",
   "language": "python",
   "name": "python3"
  },
  "language_info": {
   "codemirror_mode": {
    "name": "ipython",
    "version": 3
   },
   "file_extension": ".py",
   "mimetype": "text/x-python",
   "name": "python",
   "nbconvert_exporter": "python",
   "pygments_lexer": "ipython3",
   "version": "3.7.8"
  }
 },
 "nbformat": 4,
 "nbformat_minor": 2
}
