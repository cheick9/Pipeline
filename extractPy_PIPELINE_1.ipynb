{
 "cells": [
  {
   "cell_type": "markdown",
   "metadata": {},
   "source": [
    "1. Installation de la bibliothèque MySQL Connector"
   ]
  },
  {
   "cell_type": "code",
   "execution_count": null,
   "metadata": {},
   "outputs": [],
   "source": [
    "!pip install mysql-connector-python"
   ]
  },
  {
   "cell_type": "markdown",
   "metadata": {},
   "source": [
    "2. Connexion et extraction de la base de données"
   ]
  },
  {
   "cell_type": "code",
   "execution_count": 9,
   "metadata": {},
   "outputs": [
    {
     "name": "stdout",
     "output_type": "stream",
     "text": [
      "(1, 'Mark', 'Watney', 101, '777-555-1234', None, 2035, 5)\n"
     ]
    }
   ],
   "source": [
    "\n",
    "import mysql.connector\n",
    "password = \"root\"\n",
    "# Connexion à la base de données\n",
    "conn = mysql.connector.connect(\n",
    "    host=\"localhost\",  # Utilise l'adresse IP publique ou localhost si tu fais un tunnel SSH\n",
    "    user=\"root\",               # Mon nom d'utilisateur MySQL\n",
    "    password=password,        # Mon mot de passe MySQL\n",
    "    database=\"Ecole\"            # Le nom de ma base de données\n",
    ")\n",
    "\n",
    "# Création d'un curseur pour exécuter les requêtes\n",
    "cursor = conn.cursor()\n",
    "\n",
    "# Exécution d'une requête SQL pour extraire les données de la table \"eleves\"\n",
    "cursor.execute(\"SELECT * FROM eleves\")\n",
    "\n",
    "# Récupération des résultats\n",
    "rows = cursor.fetchall()\n",
    "\n",
    "# Affichage des données\n",
    "for row in rows:\n",
    "    print(row)\n",
    "\n",
    "# Fermeture du curseur et de la connexion\n",
    "cursor.close()\n",
    "conn.close()"
   ]
  },
  {
   "cell_type": "markdown",
   "metadata": {},
   "source": [
    "3. Manipulation des données"
   ]
  },
  {
   "cell_type": "code",
   "execution_count": 11,
   "metadata": {},
   "outputs": [
    {
     "name": "stdout",
     "output_type": "stream",
     "text": [
      "Élève: Mark Watney, Classe: 5 -> Enseignant responsable: Jonas Salk\n"
     ]
    }
   ],
   "source": [
    "# Connexion à la base de données\n",
    "conn = mysql.connector.connect(\n",
    "    host=\"localhost\",  # ou l'adresse IP de ton serveur MySQL\n",
    "    user=\"root\",       # Nom d'utilisateur MySQL\n",
    "    password=\"root\",  # Mot de passe MySQL\n",
    "    database=\"Ecole\"   # Nom de la base de données\n",
    ")\n",
    "\n",
    "# Création d'un curseur pour exécuter les requêtes\n",
    "cursor = conn.cursor()\n",
    "\n",
    "# 1. Récupérer les données des élèves\n",
    "cursor.execute(\"SELECT prenom, nom, numero_classe FROM eleves\")\n",
    "eleves = cursor.fetchall()\n",
    "\n",
    "# 2. Récupérer les données des enseignants\n",
    "cursor.execute(\"SELECT prenom, nom, numero_classe FROM enseignants\")\n",
    "enseignants = cursor.fetchall()\n",
    "\n",
    "# Fermeture du curseur et de la connexion\n",
    "cursor.close()\n",
    "conn.close()\n",
    "\n",
    "# 3. Associer chaque élève à un enseignant par numéro de classe\n",
    "for eleve in eleves:\n",
    "    prenom_eleve, nom_eleve, classe_eleve = eleve\n",
    "    enseignant_trouve = None\n",
    "\n",
    "    for enseignant in enseignants:\n",
    "        prenom_enseignant, nom_enseignant, classe_enseignant = enseignant\n",
    "        if classe_eleve == classe_enseignant:\n",
    "            enseignant_trouve = f\"{prenom_enseignant} {nom_enseignant}\"\n",
    "            break\n",
    "\n",
    "    # Afficher l'association élève-enseignant\n",
    "    if enseignant_trouve:\n",
    "        print(f\"Élève: {prenom_eleve} {nom_eleve}, Classe: {classe_eleve} -> Enseignant responsable: {enseignant_trouve}\")\n",
    "    else:\n",
    "        print(f\"Élève: {prenom_eleve} {nom_eleve}, Classe: {classe_eleve} -> Enseignant responsable: Non trouvé\")"
   ]
  },
  {
   "cell_type": "markdown",
   "metadata": {},
   "source": [
    "4. Analyse des données"
   ]
  },
  {
   "cell_type": "code",
   "execution_count": 14,
   "metadata": {},
   "outputs": [
    {
     "name": "stdout",
     "output_type": "stream",
     "text": [
      "Jonas Salk a 1 élève(s).\n"
     ]
    }
   ],
   "source": [
    "import mysql.connector\n",
    "\n",
    "# Connexion à la base de données\n",
    "conn = mysql.connector.connect(\n",
    "    host=\"localhost\",  # ou l'adresse IP de ton serveur MySQL\n",
    "    user=\"root\",       # Nom d'utilisateur MySQL\n",
    "    password=\"root\",  # Mot de passe MySQL\n",
    "    database=\"Ecole\"   # Nom de la base de données\n",
    ")\n",
    "\n",
    "# Création d'un curseur pour exécuter les requêtes\n",
    "cursor = conn.cursor()\n",
    "\n",
    "# 1. Récupérer les données des élèves\n",
    "cursor.execute(\"SELECT prenom, nom, numero_classe FROM eleves\")\n",
    "eleves = cursor.fetchall()\n",
    "\n",
    "# 2. Récupérer les données des enseignants\n",
    "cursor.execute(\"SELECT prenom, nom, numero_classe FROM enseignants\")\n",
    "enseignants = cursor.fetchall()\n",
    "\n",
    "# Fermeture du curseur et de la connexion\n",
    "cursor.close()\n",
    "conn.close()\n",
    "\n",
    "# 3. Utiliser un dictionnaire pour compter les élèves par enseignant\n",
    "enseignant_eleves_count = {}\n",
    "\n",
    "# Initialiser le dictionnaire avec chaque enseignant\n",
    "for enseignant in enseignants:\n",
    "    prenom_enseignant, nom_enseignant, classe_enseignant = enseignant\n",
    "    enseignant_eleves_count[f\"{prenom_enseignant} {nom_enseignant}\"] = 0\n",
    "\n",
    "# Compter le nombre d'élèves par enseignant en fonction de la classe\n",
    "for eleve in eleves:\n",
    "    prenom_eleve, nom_eleve, classe_eleve = eleve\n",
    "    \n",
    "    # Chercher l'enseignant correspondant à la classe de l'élève\n",
    "    for enseignant in enseignants:\n",
    "        prenom_enseignant, nom_enseignant, classe_enseignant = enseignant\n",
    "        if classe_eleve == classe_enseignant:\n",
    "            enseignant_eleves_count[f\"{prenom_enseignant} {nom_enseignant}\"] += 1\n",
    "            break\n",
    "\n",
    "# 4. Afficher le nombre d'élèves pour chaque enseignant\n",
    "for enseignant, count in enseignant_eleves_count.items():\n",
    "    print(f\"{enseignant} a {count} élève(s).\")\n"
   ]
  },
  {
   "cell_type": "markdown",
   "metadata": {},
   "source": [
    "5. Automatisation du pipeline"
   ]
  },
  {
   "cell_type": "code",
   "execution_count": 16,
   "metadata": {},
   "outputs": [
    {
     "name": "stdout",
     "output_type": "stream",
     "text": [
      "\n",
      "Associations élèves-enseignants :\n",
      "Mark Watney -> Enseignant responsable: Jonas Salk\n",
      "\n",
      "Nombre d'élèves par enseignant :\n",
      "Jonas Salk a 1 élève(s).\n"
     ]
    }
   ],
   "source": [
    "import mysql.connector\n",
    "\n",
    "def connect_to_db():\n",
    "    # Connexion à la base de données\n",
    "    conn = mysql.connector.connect(\n",
    "        host=\"localhost\",  # ou l'adresse IP de ton serveur MySQL\n",
    "        user=\"root\",       # Nom d'utilisateur MySQL\n",
    "        password=\"root\",  # Mot de passe MySQL\n",
    "        database=\"Ecole\"   # Nom de la base de données\n",
    "    )\n",
    "    return conn\n",
    "\n",
    "def fetch_data(conn):\n",
    "    # Création d'un curseur pour exécuter les requêtes\n",
    "    cursor = conn.cursor()\n",
    "\n",
    "    # Récupérer les données des élèves\n",
    "    cursor.execute(\"SELECT prenom, nom, numero_classe FROM eleves\")\n",
    "    eleves = cursor.fetchall()\n",
    "\n",
    "    # Récupérer les données des enseignants\n",
    "    cursor.execute(\"SELECT prenom, nom, numero_classe FROM enseignants\")\n",
    "    enseignants = cursor.fetchall()\n",
    "\n",
    "    # Fermer le curseur\n",
    "    cursor.close()\n",
    "\n",
    "    return eleves, enseignants\n",
    "\n",
    "def associate_students_with_teachers(eleves, enseignants):\n",
    "    # Associer chaque élève à son enseignant par numéro de classe\n",
    "    associations = []\n",
    "    for eleve in eleves:\n",
    "        prenom_eleve, nom_eleve, classe_eleve = eleve\n",
    "        enseignant_trouve = None\n",
    "        for enseignant in enseignants:\n",
    "            prenom_enseignant, nom_enseignant, classe_enseignant = enseignant\n",
    "            if classe_eleve == classe_enseignant:\n",
    "                enseignant_trouve = f\"{prenom_enseignant} {nom_enseignant}\"\n",
    "                break\n",
    "        associations.append((f\"{prenom_eleve} {nom_eleve}\", enseignant_trouve))\n",
    "    return associations\n",
    "\n",
    "def count_students_per_teacher(eleves, enseignants):\n",
    "    # Compter le nombre d'élèves par enseignant en fonction du numéro de classe\n",
    "    enseignant_eleves_count = {f\"{prenom} {nom}\": 0 for prenom, nom, _ in enseignants}\n",
    "\n",
    "    for eleve in eleves:\n",
    "        classe_eleve = eleve[2]\n",
    "        for enseignant in enseignants:\n",
    "            if classe_eleve == enseignant[2]:\n",
    "                enseignant_nom_complet = f\"{enseignant[0]} {enseignant[1]}\"\n",
    "                enseignant_eleves_count[enseignant_nom_complet] += 1\n",
    "                break\n",
    "\n",
    "    return enseignant_eleves_count\n",
    "\n",
    "def display_associations(associations):\n",
    "    print(\"\\nAssociations élèves-enseignants :\")\n",
    "    for eleve, enseignant in associations:\n",
    "        if enseignant:\n",
    "            print(f\"{eleve} -> Enseignant responsable: {enseignant}\")\n",
    "        else:\n",
    "            print(f\"{eleve} -> Enseignant responsable: Non trouvé\")\n",
    "\n",
    "def display_student_counts(enseignant_eleves_count):\n",
    "    print(\"\\nNombre d'élèves par enseignant :\")\n",
    "    for enseignant, count in enseignant_eleves_count.items():\n",
    "        print(f\"{enseignant} a {count} élève(s).\")\n",
    "\n",
    "def main():\n",
    "    # Connexion à la base de données\n",
    "    conn = connect_to_db()\n",
    "\n",
    "    try:\n",
    "        # Extraction des données\n",
    "        eleves, enseignants = fetch_data(conn)\n",
    "\n",
    "        # Association des élèves aux enseignants\n",
    "        associations = associate_students_with_teachers(eleves, enseignants)\n",
    "\n",
    "        # Comptage des élèves par enseignant\n",
    "        enseignant_eleves_count = count_students_per_teacher(eleves, enseignants)\n",
    "\n",
    "        # Affichage des résultats\n",
    "        display_associations(associations)\n",
    "        display_student_counts(enseignant_eleves_count)\n",
    "\n",
    "    finally:\n",
    "        # Fermeture de la connexion à la base de données\n",
    "        conn.close()\n",
    "\n",
    "# Exécution du script\n",
    "if __name__ == \"__main__\":\n",
    "    main()\n"
   ]
  },
  {
   "cell_type": "markdown",
   "metadata": {},
   "source": [
    "EXERCICES PIPELINES"
   ]
  }
 ],
 "metadata": {
  "kernelspec": {
   "display_name": "Python 3",
   "language": "python",
   "name": "python3"
  },
  "language_info": {
   "codemirror_mode": {
    "name": "ipython",
    "version": 3
   },
   "file_extension": ".py",
   "mimetype": "text/x-python",
   "name": "python",
   "nbconvert_exporter": "python",
   "pygments_lexer": "ipython3",
   "version": "3.7.8"
  }
 },
 "nbformat": 4,
 "nbformat_minor": 2
}
